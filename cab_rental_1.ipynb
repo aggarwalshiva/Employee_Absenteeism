{
 "cells": [
  {
   "cell_type": "code",
   "execution_count": 1,
   "metadata": {},
   "outputs": [],
   "source": [
    "## Import required libraries\n",
    "\n",
    "import pandas as pd\n",
    "import numpy as np\n",
    "import matplotlib.pyplot as plt\n",
    "import seaborn as sns\n",
    "from sklearn.model_selection import train_test_split\n",
    "from sklearn.tree import DecisionTreeRegressor\n",
    "from sklearn.ensemble import RandomForestRegressor"
   ]
  },
  {
   "cell_type": "code",
   "execution_count": 2,
   "metadata": {},
   "outputs": [
    {
     "name": "stdout",
     "output_type": "stream",
     "text": [
      "The shape of training data : (16067, 7)\n"
     ]
    }
   ],
   "source": [
    "## Reading train and test data\n",
    "df_train = pd.read_csv(\"train_cab.csv\")\n",
    "#df_test = pd.read_csv(\"test.csv\")\n",
    "print(\"The shape of training data : {}\".format(df_train.shape))\n",
    "#print(\"The shape of test data : {}\".format(df_test.shape))"
   ]
  },
  {
   "cell_type": "code",
   "execution_count": 3,
   "metadata": {},
   "outputs": [
    {
     "data": {
      "text/html": [
       "<div>\n",
       "<style scoped>\n",
       "    .dataframe tbody tr th:only-of-type {\n",
       "        vertical-align: middle;\n",
       "    }\n",
       "\n",
       "    .dataframe tbody tr th {\n",
       "        vertical-align: top;\n",
       "    }\n",
       "\n",
       "    .dataframe thead th {\n",
       "        text-align: right;\n",
       "    }\n",
       "</style>\n",
       "<table border=\"1\" class=\"dataframe\">\n",
       "  <thead>\n",
       "    <tr style=\"text-align: right;\">\n",
       "      <th></th>\n",
       "      <th>Variables</th>\n",
       "      <th>Missing_count</th>\n",
       "    </tr>\n",
       "  </thead>\n",
       "  <tbody>\n",
       "    <tr>\n",
       "      <th>0</th>\n",
       "      <td>passenger_count</td>\n",
       "      <td>55</td>\n",
       "    </tr>\n",
       "    <tr>\n",
       "      <th>1</th>\n",
       "      <td>fare_amount</td>\n",
       "      <td>24</td>\n",
       "    </tr>\n",
       "    <tr>\n",
       "      <th>2</th>\n",
       "      <td>pickup_datetime</td>\n",
       "      <td>0</td>\n",
       "    </tr>\n",
       "    <tr>\n",
       "      <th>3</th>\n",
       "      <td>pickup_longitude</td>\n",
       "      <td>0</td>\n",
       "    </tr>\n",
       "    <tr>\n",
       "      <th>4</th>\n",
       "      <td>pickup_latitude</td>\n",
       "      <td>0</td>\n",
       "    </tr>\n",
       "    <tr>\n",
       "      <th>5</th>\n",
       "      <td>dropoff_longitude</td>\n",
       "      <td>0</td>\n",
       "    </tr>\n",
       "    <tr>\n",
       "      <th>6</th>\n",
       "      <td>dropoff_latitude</td>\n",
       "      <td>0</td>\n",
       "    </tr>\n",
       "  </tbody>\n",
       "</table>\n",
       "</div>"
      ],
      "text/plain": [
       "           Variables  Missing_count\n",
       "0    passenger_count             55\n",
       "1        fare_amount             24\n",
       "2    pickup_datetime              0\n",
       "3   pickup_longitude              0\n",
       "4    pickup_latitude              0\n",
       "5  dropoff_longitude              0\n",
       "6   dropoff_latitude              0"
      ]
     },
     "execution_count": 3,
     "metadata": {},
     "output_type": "execute_result"
    }
   ],
   "source": [
    "## missing value\n",
    "missing_val = pd.DataFrame(df_train.isnull().sum())\n",
    "missing_val = missing_val.reset_index()\n",
    "missing_val = missing_val.rename(columns = {'index': 'Variables', 0: 'Missing_count'})\n",
    "missing_val = missing_val.sort_values('Missing_count', ascending = False).reset_index(drop = True)\n",
    "missing_val"
   ]
  },
  {
   "cell_type": "code",
   "execution_count": 4,
   "metadata": {},
   "outputs": [
    {
     "data": {
      "text/plain": [
       "(16043, 7)"
      ]
     },
     "execution_count": 4,
     "metadata": {},
     "output_type": "execute_result"
    }
   ],
   "source": [
    "### \"fare_amount\" is our target variable.\n",
    "## We have 24 observations having values 'NA' so we drop these values.\n",
    "\n",
    "df_train.dropna(axis=0,how=\"any\",subset=['fare_amount'],inplace=True)\n",
    "df_train.shape"
   ]
  },
  {
   "cell_type": "code",
   "execution_count": 5,
   "metadata": {},
   "outputs": [
    {
     "data": {
      "text/plain": [
       "(15988, 7)"
      ]
     },
     "execution_count": 5,
     "metadata": {},
     "output_type": "execute_result"
    }
   ],
   "source": [
    "## As we have total of 16043 observation , and a missing observation 55 from \"passenger_count\" which is approx 0.34 %.\n",
    "## So I drop these observation, inplace of imputing them by mean,median or KNN imputaion.\n",
    "\n",
    "df_train.dropna(axis=0,how=\"any\",subset=['passenger_count'],inplace=True)\n",
    "df_train.shape"
   ]
  },
  {
   "cell_type": "code",
   "execution_count": 11,
   "metadata": {},
   "outputs": [],
   "source": [
    "#df_train['passenger_count'].value_counts()"
   ]
  },
  {
   "cell_type": "code",
   "execution_count": 6,
   "metadata": {},
   "outputs": [
    {
     "data": {
      "text/plain": [
       "fare_amount          0\n",
       "pickup_datetime      0\n",
       "pickup_longitude     0\n",
       "pickup_latitude      0\n",
       "dropoff_longitude    0\n",
       "dropoff_latitude     0\n",
       "passenger_count      0\n",
       "dtype: int64"
      ]
     },
     "execution_count": 6,
     "metadata": {},
     "output_type": "execute_result"
    }
   ],
   "source": [
    "##So finally,\n",
    "df_train.isnull().sum()"
   ]
  },
  {
   "cell_type": "code",
   "execution_count": 7,
   "metadata": {},
   "outputs": [
    {
     "data": {
      "image/png": "[encoded data removed]",
      "text/plain": [
       "<Figure size 1440x1080 with 6 Axes>"
      ]
     },
     "metadata": {
      "needs_background": "light"
     },
     "output_type": "display_data"
    }
   ],
   "source": [
    "## Histogram plot\n",
    "df_train.hist(figsize=(20,15))\n",
    "plt.show()"
   ]
  },
  {
   "cell_type": "code",
   "execution_count": 28,
   "metadata": {},
   "outputs": [
    {
     "data": {
      "text/html": [
       "<div>\n",
       "<style scoped>\n",
       "    .dataframe tbody tr th:only-of-type {\n",
       "        vertical-align: middle;\n",
       "    }\n",
       "\n",
       "    .dataframe tbody tr th {\n",
       "        vertical-align: top;\n",
       "    }\n",
       "\n",
       "    .dataframe thead th {\n",
       "        text-align: right;\n",
       "    }\n",
       "</style>\n",
       "<table border=\"1\" class=\"dataframe\">\n",
       "  <thead>\n",
       "    <tr style=\"text-align: right;\">\n",
       "      <th></th>\n",
       "      <th>fare_amount</th>\n",
       "      <th>pickup_datetime</th>\n",
       "      <th>pickup_longitude</th>\n",
       "      <th>pickup_latitude</th>\n",
       "      <th>dropoff_longitude</th>\n",
       "      <th>dropoff_latitude</th>\n",
       "      <th>passenger_count</th>\n",
       "    </tr>\n",
       "  </thead>\n",
       "  <tbody>\n",
       "    <tr>\n",
       "      <th>count</th>\n",
       "      <td>15988.000000</td>\n",
       "      <td>15988</td>\n",
       "      <td>15988.000000</td>\n",
       "      <td>15988.000000</td>\n",
       "      <td>15988.000000</td>\n",
       "      <td>15988.000000</td>\n",
       "      <td>15988.000000</td>\n",
       "    </tr>\n",
       "    <tr>\n",
       "      <th>unique</th>\n",
       "      <td>NaN</td>\n",
       "      <td>15943</td>\n",
       "      <td>NaN</td>\n",
       "      <td>NaN</td>\n",
       "      <td>NaN</td>\n",
       "      <td>NaN</td>\n",
       "      <td>NaN</td>\n",
       "    </tr>\n",
       "    <tr>\n",
       "      <th>top</th>\n",
       "      <td>NaN</td>\n",
       "      <td>2013-01-11 12:28:00 UTC</td>\n",
       "      <td>NaN</td>\n",
       "      <td>NaN</td>\n",
       "      <td>NaN</td>\n",
       "      <td>NaN</td>\n",
       "      <td>NaN</td>\n",
       "    </tr>\n",
       "    <tr>\n",
       "      <th>freq</th>\n",
       "      <td>NaN</td>\n",
       "      <td>2</td>\n",
       "      <td>NaN</td>\n",
       "      <td>NaN</td>\n",
       "      <td>NaN</td>\n",
       "      <td>NaN</td>\n",
       "      <td>NaN</td>\n",
       "    </tr>\n",
       "    <tr>\n",
       "      <th>mean</th>\n",
       "      <td>15.056187</td>\n",
       "      <td>NaN</td>\n",
       "      <td>-72.464541</td>\n",
       "      <td>39.915681</td>\n",
       "      <td>-72.464099</td>\n",
       "      <td>39.898780</td>\n",
       "      <td>2.623069</td>\n",
       "    </tr>\n",
       "    <tr>\n",
       "      <th>std</th>\n",
       "      <td>431.199461</td>\n",
       "      <td>NaN</td>\n",
       "      <td>10.572946</td>\n",
       "      <td>6.828608</td>\n",
       "      <td>10.569608</td>\n",
       "      <td>6.185996</td>\n",
       "      <td>60.888334</td>\n",
       "    </tr>\n",
       "    <tr>\n",
       "      <th>min</th>\n",
       "      <td>-3.000000</td>\n",
       "      <td>NaN</td>\n",
       "      <td>-74.438233</td>\n",
       "      <td>-74.006893</td>\n",
       "      <td>-74.429332</td>\n",
       "      <td>-74.006377</td>\n",
       "      <td>0.000000</td>\n",
       "    </tr>\n",
       "    <tr>\n",
       "      <th>25%</th>\n",
       "      <td>6.000000</td>\n",
       "      <td>NaN</td>\n",
       "      <td>-73.992143</td>\n",
       "      <td>40.734931</td>\n",
       "      <td>-73.991182</td>\n",
       "      <td>40.734655</td>\n",
       "      <td>1.000000</td>\n",
       "    </tr>\n",
       "    <tr>\n",
       "      <th>50%</th>\n",
       "      <td>8.500000</td>\n",
       "      <td>NaN</td>\n",
       "      <td>-73.981691</td>\n",
       "      <td>40.752603</td>\n",
       "      <td>-73.980168</td>\n",
       "      <td>40.753560</td>\n",
       "      <td>1.000000</td>\n",
       "    </tr>\n",
       "    <tr>\n",
       "      <th>75%</th>\n",
       "      <td>12.500000</td>\n",
       "      <td>NaN</td>\n",
       "      <td>-73.966822</td>\n",
       "      <td>40.767356</td>\n",
       "      <td>-73.963645</td>\n",
       "      <td>40.768006</td>\n",
       "      <td>2.000000</td>\n",
       "    </tr>\n",
       "    <tr>\n",
       "      <th>max</th>\n",
       "      <td>54343.000000</td>\n",
       "      <td>NaN</td>\n",
       "      <td>40.766125</td>\n",
       "      <td>401.083332</td>\n",
       "      <td>40.802437</td>\n",
       "      <td>41.366138</td>\n",
       "      <td>5345.000000</td>\n",
       "    </tr>\n",
       "  </tbody>\n",
       "</table>\n",
       "</div>"
      ],
      "text/plain": [
       "         fare_amount          pickup_datetime  pickup_longitude  \\\n",
       "count   15988.000000                    15988      15988.000000   \n",
       "unique           NaN                    15943               NaN   \n",
       "top              NaN  2013-01-11 12:28:00 UTC               NaN   \n",
       "freq             NaN                        2               NaN   \n",
       "mean       15.056187                      NaN        -72.464541   \n",
       "std       431.199461                      NaN         10.572946   \n",
       "min        -3.000000                      NaN        -74.438233   \n",
       "25%         6.000000                      NaN        -73.992143   \n",
       "50%         8.500000                      NaN        -73.981691   \n",
       "75%        12.500000                      NaN        -73.966822   \n",
       "max     54343.000000                      NaN         40.766125   \n",
       "\n",
       "        pickup_latitude  dropoff_longitude  dropoff_latitude  passenger_count  \n",
       "count      15988.000000       15988.000000      15988.000000     15988.000000  \n",
       "unique              NaN                NaN               NaN              NaN  \n",
       "top                 NaN                NaN               NaN              NaN  \n",
       "freq                NaN                NaN               NaN              NaN  \n",
       "mean          39.915681         -72.464099         39.898780         2.623069  \n",
       "std            6.828608          10.569608          6.185996        60.888334  \n",
       "min          -74.006893         -74.429332        -74.006377         0.000000  \n",
       "25%           40.734931         -73.991182         40.734655         1.000000  \n",
       "50%           40.752603         -73.980168         40.753560         1.000000  \n",
       "75%           40.767356         -73.963645         40.768006         2.000000  \n",
       "max          401.083332          40.802437         41.366138      5345.000000  "
      ]
     },
     "execution_count": 28,
     "metadata": {},
     "output_type": "execute_result"
    }
   ],
   "source": [
    "df_train.describe(include=\"all\")"
   ]
  },
  {
   "cell_type": "code",
   "execution_count": 29,
   "metadata": {},
   "outputs": [
    {
     "data": {
      "image/png": "[encoded data removed]",
      "text/plain": [
       "<Figure size 432x288 with 24 Axes>"
      ]
     },
     "metadata": {
      "needs_background": "light"
     },
     "output_type": "display_data"
    }
   ],
   "source": [
    "df_train.plot(kind='density', subplots=True, layout=(8,3), sharex=False)\n",
    "plt.subplots_adjust(left=0, bottom=1, right=2, top= 5,wspace=0.2, hspace=0.2)\n",
    "plt.show()"
   ]
  },
  {
   "cell_type": "code",
   "execution_count": 30,
   "metadata": {},
   "outputs": [
    {
     "data": {
      "image/png": "[encoded data removed]",
      "text/plain": [
       "<Figure size 432x288 with 24 Axes>"
      ]
     },
     "metadata": {
      "needs_background": "light"
     },
     "output_type": "display_data"
    }
   ],
   "source": [
    "df_train.plot(kind='box', subplots=True, layout=(8,3), sharex=False, sharey=False, fontsize=8)\n",
    "plt.subplots_adjust(left=0, bottom=1, right=2, top= 5,wspace=0.2, hspace=0.2)\n",
    "plt.show()"
   ]
  },
  {
   "cell_type": "code",
   "execution_count": 71,
   "metadata": {},
   "outputs": [],
   "source": [
    "## by observing the data we came to know mininmum value of 'fare_amount' is negative, which is not pratical.\n",
    "## So we remove those observation from data.\n",
    "df_train = df_train[df_train['fare_amount']>0]"
   ]
  },
  {
   "cell_type": "code",
   "execution_count": 72,
   "metadata": {},
   "outputs": [
    {
     "name": "stdout",
     "output_type": "stream",
     "text": [
      "The maximum pickup_longitude:40.766125\n",
      "The minimum pickup_longitude:-74.438233\n",
      "The maximum dropoff_longitude:40.802437\n",
      "The mimimum dropoff_longitude:-74.42933199999999\n",
      " \n",
      "The maximum pickup_latitude:401.083332\n",
      "The minimum pickup_latitude:-74.006893\n",
      "The maximum dropoff_latitude:41.366138\n",
      "The mimimum dropoff_latitude:-74.006377\n"
     ]
    }
   ],
   "source": [
    "## Let's focus on longitude and latitude.\n",
    "print(\"The maximum pickup_longitude:{}\".format(max(df_train['pickup_longitude'])))\n",
    "print(\"The minimum pickup_longitude:{}\".format(min(df_train['pickup_longitude'])))\n",
    "print(\"The maximum dropoff_longitude:{}\".format(max(df_train['dropoff_longitude'])))\n",
    "print(\"The mimimum dropoff_longitude:{}\".format(min(df_train['dropoff_longitude'])))\n",
    "print(\" \")\n",
    "print(\"The maximum pickup_latitude:{}\".format(max(df_train['pickup_latitude'])))\n",
    "print(\"The minimum pickup_latitude:{}\".format(min(df_train['pickup_latitude'])))\n",
    "print(\"The maximum dropoff_latitude:{}\".format(max(df_train['dropoff_latitude'])))\n",
    "print(\"The mimimum dropoff_latitude:{}\".format(min(df_train['dropoff_latitude'])))"
   ]
  },
  {
   "cell_type": "code",
   "execution_count": 33,
   "metadata": {},
   "outputs": [
    {
     "data": {
      "text/html": [
       "<div style=\"width:100%;\"><div style=\"position:relative;width:100%;height:0;padding-bottom:60%;\"><iframe src=\"data:text/html;charset=utf-8;base64,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\" style=\"position:absolute;width:100%;height:100%;left:0;top:0;border:none !important;\" allowfullscreen webkitallowfullscreen mozallowfullscreen></iframe></div></div>"
      ],
      "text/plain": [
       "<folium.folium.Map at 0x1b464098588>"
      ]
     },
     "execution_count": 33,
     "metadata": {},
     "output_type": "execute_result"
    }
   ],
   "source": [
    "import folium\n",
    "wmap = folium.Map(location=[41.366138, -74.42933199999999] ,zoom_start=6)\n",
    "wmap\n",
    "\n"
   ]
  },
  {
   "cell_type": "code",
   "execution_count": 73,
   "metadata": {},
   "outputs": [
    {
     "data": {
      "text/plain": [
       "(15499, 7)"
      ]
     },
     "execution_count": 73,
     "metadata": {},
     "output_type": "execute_result"
    }
   ],
   "source": [
    "### from above observation we came to know that coordinates is belongs to NEW YORK.\n",
    "## So,\n",
    "\n",
    "# our latitude and longitude should not be equal to 0 becuase the dataset is based in NY\n",
    "df_train = df_train[df_train['pickup_latitude']!= 0]\n",
    "df_train = df_train[df_train['pickup_longitude'] != 0]\n",
    "df_train = df_train[df_train['dropoff_latitude'] != 0]\n",
    "df_train = df_train[df_train['dropoff_longitude'] != 0]\n",
    "\n",
    "\n",
    "# latitude and longitude are bounded by 90 and -90. We shouldnt have any coordiantes out of that range\n",
    "df_train = df_train[(df_train['pickup_latitude']<=90) & (df_train['pickup_latitude']>=-90)]\n",
    "df_train = df_train[(df_train['pickup_longitude']<=90) & (df_train['pickup_longitude']>=-90)]\n",
    "df_train = df_train[(df_train['dropoff_latitude']<=90) & (df_train['dropoff_latitude']>=-90)]\n",
    "df_train = df_train[(df_train['dropoff_longitude']<=90) & (df_train['dropoff_longitude']>=-90)]\n",
    "\n",
    "# I dont want to include destinations that have not moved from there pickup coordinates to there dropoff coordinates\n",
    "df_train = df_train[(df_train['pickup_latitude'] != df_train['dropoff_latitude']) & (df_train['pickup_longitude'] != df_train['dropoff_longitude'])]\n",
    "\n",
    "df_train.shape"
   ]
  },
  {
   "cell_type": "code",
   "execution_count": 74,
   "metadata": {},
   "outputs": [
    {
     "name": "stdout",
     "output_type": "stream",
     "text": [
      "<class 'pandas.core.frame.DataFrame'>\n",
      "Int64Index: 15499 entries, 4 to 16042\n",
      "Data columns (total 7 columns):\n",
      "fare_amount          15499 non-null float64\n",
      "pickup_datetime      15499 non-null object\n",
      "pickup_longitude     15499 non-null float64\n",
      "pickup_latitude      15499 non-null float64\n",
      "dropoff_longitude    15499 non-null float64\n",
      "dropoff_latitude     15499 non-null float64\n",
      "passenger_count      15499 non-null int64\n",
      "dtypes: float64(5), int64(1), object(1)\n",
      "memory usage: 968.7+ KB\n"
     ]
    }
   ],
   "source": [
    "df_train['passenger_count'] = df_train['passenger_count'].astype('int64')\n",
    "df_train.info()"
   ]
  },
  {
   "cell_type": "code",
   "execution_count": 36,
   "metadata": {},
   "outputs": [
    {
     "data": {
      "image/png": "[encoded data removed]",
      "text/plain": [
       "<Figure size 432x288 with 1 Axes>"
      ]
     },
     "metadata": {
      "needs_background": "light"
     },
     "output_type": "display_data"
    }
   ],
   "source": [
    "### outlier analysis for target variable \"fare_amount\":\n",
    "cname = ['fare_amount']\n",
    "for i in cname:\n",
    "    plt.boxplot(df_train[i])\n",
    "    plt.title(\"Boxplot :\"+str())\n",
    "    plt.show()"
   ]
  },
  {
   "cell_type": "code",
   "execution_count": 75,
   "metadata": {},
   "outputs": [],
   "source": [
    "## Detect and count outlier\n",
    "for i in cname:\n",
    "    q75,q25 = np.percentile(df_train.loc[:,i],[75,25])\n",
    "    # Calculating Interquartile range\n",
    "    iqr = (q75 - q25)\n",
    "    # Calculating upper extrema and lower extrema\n",
    "    minimum = q25 - (iqr*1.5)\n",
    "    maximum = q75 + (iqr*1.5)\n",
    "    \n",
    "    # Replace with NA\n",
    "    df_train.loc[df_train[i] < minimum,i] = np.nan\n",
    "    df_train.loc[df_train[i] > maximum,i] = np.nan"
   ]
  },
  {
   "cell_type": "code",
   "execution_count": 39,
   "metadata": {},
   "outputs": [
    {
     "data": {
      "text/plain": [
       "fare_amount          1348\n",
       "pickup_datetime         0\n",
       "pickup_longitude        0\n",
       "pickup_latitude         0\n",
       "dropoff_longitude       0\n",
       "dropoff_latitude        0\n",
       "passenger_count         0\n",
       "dtype: int64"
      ]
     },
     "execution_count": 39,
     "metadata": {},
     "output_type": "execute_result"
    }
   ],
   "source": [
    "df_train.isnull().sum()"
   ]
  },
  {
   "cell_type": "code",
   "execution_count": 76,
   "metadata": {},
   "outputs": [],
   "source": [
    "###  1348 outler in target variable \"fare_amount\".\n",
    "### So we are first going to drop outlier from target variable \"fare_amount\"\n",
    "df_train.dropna(axis=0,how=\"any\",subset=['fare_amount'],inplace=True)"
   ]
  },
  {
   "cell_type": "code",
   "execution_count": 77,
   "metadata": {},
   "outputs": [
    {
     "data": {
      "text/plain": [
       "1       9985\n",
       "2       2015\n",
       "5        924\n",
       "3        594\n",
       "4        293\n",
       "6        271\n",
       "0         52\n",
       "43         2\n",
       "354        1\n",
       "456        1\n",
       "536        1\n",
       "345        1\n",
       "537        1\n",
       "58         1\n",
       "535        1\n",
       "554        1\n",
       "87         1\n",
       "531        1\n",
       "5345       1\n",
       "5334       1\n",
       "53         1\n",
       "557        1\n",
       "35         1\n",
       "Name: passenger_count, dtype: int64"
      ]
     },
     "execution_count": 77,
     "metadata": {},
     "output_type": "execute_result"
    }
   ],
   "source": [
    "### analysis for variable \"passenger_count\"\n",
    "df_train['passenger_count'].value_counts()"
   ]
  },
  {
   "cell_type": "code",
   "execution_count": 78,
   "metadata": {},
   "outputs": [
    {
     "data": {
      "text/plain": [
       "(14082, 7)"
      ]
     },
     "execution_count": 78,
     "metadata": {},
     "output_type": "execute_result"
    }
   ],
   "source": [
    "# Maximum amaount of passengers in a car should be 7, but the occurance of 7 passenger is by far too low to include\n",
    "df_train = df_train[(df_train['passenger_count'] < 7) & (df_train['passenger_count'] > 0)]\n",
    "df_train.shape"
   ]
  },
  {
   "cell_type": "code",
   "execution_count": 79,
   "metadata": {},
   "outputs": [
    {
     "data": {
      "image/png": "[encoded data removed]",
      "text/plain": [
       "<Figure size 576x576 with 1 Axes>"
      ]
     },
     "metadata": {
      "needs_background": "light"
     },
     "output_type": "display_data"
    }
   ],
   "source": [
    "## Distribution of \"fare_amount\" after outlier removal\n",
    "plt.figure(figsize=(8,8))\n",
    "sns.distplot(df_train['fare_amount'])\n",
    "plt.title(\"Distribution of fare_amount after outlier removal\")\n",
    "plt.show()"
   ]
  },
  {
   "cell_type": "markdown",
   "metadata": {},
   "source": [
    "## Exploratory Analysis"
   ]
  },
  {
   "cell_type": "code",
   "execution_count": 44,
   "metadata": {},
   "outputs": [
    {
     "data": {
      "image/png": "[encoded data removed]",
      "text/plain": [
       "<Figure size 720x576 with 1 Axes>"
      ]
     },
     "metadata": {
      "needs_background": "light"
     },
     "output_type": "display_data"
    }
   ],
   "source": [
    "passenger_count = df_train.groupby('passenger_count')['fare_amount'].count()\n",
    "passenger_count.reset_index()\n",
    "passenger_count.plot(kind=\"barh\",x= 'passenger_count',y= 'fare_amount',figsize=(10,8))\n",
    "plt.xlabel('Count')\n",
    "plt.ylabel('Number of Passengers')\n",
    "plt.title('Number of Passengers')\n",
    "plt.show()"
   ]
  },
  {
   "cell_type": "code",
   "execution_count": 45,
   "metadata": {},
   "outputs": [
    {
     "data": {
      "image/png": "[encoded data removed]",
      "text/plain": [
       "<Figure size 720x576 with 1 Axes>"
      ]
     },
     "metadata": {
      "needs_background": "light"
     },
     "output_type": "display_data"
    }
   ],
   "source": [
    "passenger_fare = df_train.groupby(\"passenger_count\")['fare_amount'].mean()\n",
    "passenger_fare.reset_index()\n",
    "passenger_fare.plot(kind=\"barh\",x=\"passenger_count\",y=\"fare_amount\",figsize=(10,8))\n",
    "plt.xlabel('Average Fare')\n",
    "plt.ylabel('Number of Passengers')\n",
    "plt.title('Average Fare Price for Number of Passengers')\n",
    "plt.show()"
   ]
  },
  {
   "cell_type": "code",
   "execution_count": 80,
   "metadata": {},
   "outputs": [],
   "source": [
    "### Convert pickup_datetime from object to datetime object\n",
    "df_train['pickup_datetime'] = pd.to_datetime(df_train['pickup_datetime'],format=\"%Y-%m-%d %H:%M:%S UTC\",errors=\"coerce\")"
   ]
  },
  {
   "cell_type": "code",
   "execution_count": 81,
   "metadata": {},
   "outputs": [],
   "source": [
    "df_train['pickup_day'] = df_train['pickup_datetime'].dt.day\n",
    "df_train['pickup_hour'] = df_train['pickup_datetime'].dt.hour\n",
    "df_train['pickup_day_of_week'] = df_train['pickup_datetime'].dt.dayofweek ###The day of the week with Monday=0, Sunday=6\n",
    "df_train['pickup_month'] = df_train['pickup_datetime'].dt.month\n",
    "df_train['pickup_year'] =df_train['pickup_datetime'].dt.year"
   ]
  },
  {
   "cell_type": "code",
   "execution_count": 48,
   "metadata": {},
   "outputs": [
    {
     "name": "stdout",
     "output_type": "stream",
     "text": [
      "<class 'pandas.core.frame.DataFrame'>\n",
      "Int64Index: 14082 entries, 4 to 14644\n",
      "Data columns (total 12 columns):\n",
      "fare_amount           14082 non-null float64\n",
      "pickup_datetime       14081 non-null datetime64[ns]\n",
      "pickup_longitude      14082 non-null float64\n",
      "pickup_latitude       14082 non-null float64\n",
      "dropoff_longitude     14082 non-null float64\n",
      "dropoff_latitude      14082 non-null float64\n",
      "passenger_count       14082 non-null int64\n",
      "pickup_day            14081 non-null float64\n",
      "pickup_hour           14081 non-null float64\n",
      "pickup_day_of_week    14081 non-null float64\n",
      "pickup_month          14081 non-null float64\n",
      "pickup_year           14081 non-null float64\n",
      "dtypes: datetime64[ns](1), float64(10), int64(1)\n",
      "memory usage: 1.4 MB\n"
     ]
    }
   ],
   "source": [
    "df_train.info()"
   ]
  },
  {
   "cell_type": "code",
   "execution_count": 82,
   "metadata": {},
   "outputs": [
    {
     "data": {
      "image/png": "[encoded data removed]",
      "text/plain": [
       "<Figure size 720x576 with 1 Axes>"
      ]
     },
     "metadata": {
      "needs_background": "light"
     },
     "output_type": "display_data"
    }
   ],
   "source": [
    "df_dayofweek = df_train.groupby('pickup_day_of_week')['passenger_count'].count()\n",
    "df_dayofweek.reset_index()\n",
    "df_dayofweek.plot(kind=\"bar\",x=\"pickup_day_of_week\",y=\"passenger_count\",figsize=(10,8))\n",
    "plt.xlabel(\"Day of Week starting from Monday=0 to Sunday=6\")\n",
    "plt.ylabel(\"Total number of passenger\")\n",
    "plt.title(\"Total number of passenger on day of the week\")\n",
    "plt.show()"
   ]
  },
  {
   "cell_type": "code",
   "execution_count": 50,
   "metadata": {},
   "outputs": [
    {
     "data": {
      "image/png": "[encoded data removed]",
      "text/plain": [
       "<Figure size 720x576 with 1 Axes>"
      ]
     },
     "metadata": {
      "needs_background": "light"
     },
     "output_type": "display_data"
    }
   ],
   "source": [
    "dayofweek_fare = df_train.groupby(\"pickup_day_of_week\")['fare_amount'].mean()\n",
    "dayofweek_fare.reset_index()\n",
    "dayofweek_fare.plot(kind='bar',x=\"pickup_day_of_week\",y='fare_amount',figsize=(10,8))\n",
    "plt.xlabel(\"Day of Week starting from Monday=0 to Sunday=6\")\n",
    "plt.ylabel(\"Average Fare Amount\")\n",
    "plt.title(\"Average Fare Amount per Day of Week\")\n",
    "plt.show()"
   ]
  },
  {
   "cell_type": "code",
   "execution_count": 51,
   "metadata": {},
   "outputs": [
    {
     "data": {
      "image/png": "[encoded data removed]",
      "text/plain": [
       "<Figure size 720x576 with 1 Axes>"
      ]
     },
     "metadata": {
      "needs_background": "light"
     },
     "output_type": "display_data"
    }
   ],
   "source": [
    "time_of_day = df_train.groupby(['pickup_hour']).mean()\n",
    "plt.figure(figsize=(10,8))\n",
    "plt.plot(time_of_day.index, time_of_day.fare_amount, color = 'r')\n",
    "plt.xlabel('Hour')\n",
    "plt.ylabel('Fare Price')\n",
    "plt.title('Average Fare Price During Time of Day')\n",
    "plt.show()"
   ]
  },
  {
   "cell_type": "code",
   "execution_count": 83,
   "metadata": {},
   "outputs": [],
   "source": [
    "df_train_1 = df_train.copy()\n",
    "df_train_1.dropna(axis=0,how=\"any\",subset=['pickup_datetime'],inplace=True)"
   ]
  },
  {
   "cell_type": "code",
   "execution_count": 84,
   "metadata": {},
   "outputs": [
    {
     "name": "stdout",
     "output_type": "stream",
     "text": [
      "<class 'pandas.core.frame.DataFrame'>\n",
      "Int64Index: 14081 entries, 4 to 14644\n",
      "Data columns (total 11 columns):\n",
      "fare_amount           14081 non-null float64\n",
      "pickup_longitude      14081 non-null float64\n",
      "pickup_latitude       14081 non-null float64\n",
      "dropoff_longitude     14081 non-null float64\n",
      "dropoff_latitude      14081 non-null float64\n",
      "passenger_count       14081 non-null int64\n",
      "pickup_day            14081 non-null float64\n",
      "pickup_hour           14081 non-null float64\n",
      "pickup_day_of_week    14081 non-null float64\n",
      "pickup_month          14081 non-null float64\n",
      "pickup_year           14081 non-null float64\n",
      "dtypes: float64(10), int64(1)\n",
      "memory usage: 1.3 MB\n"
     ]
    }
   ],
   "source": [
    "df_train_1 = df_train_1.drop(['pickup_datetime'],axis=1)\n",
    "df_train_1.info()"
   ]
  },
  {
   "cell_type": "code",
   "execution_count": 85,
   "metadata": {},
   "outputs": [],
   "source": [
    "def haversine_np(lon1,lat1,lon2,lat2):\n",
    "    lon1,lat1,lon2,lat2 = map(np.radians, [lon1,lat1,lon2,lat2])\n",
    "    dlon=lon2-lon1\n",
    "    dlat=lat2-lat1\n",
    "    a=np.sin(dlat/2.0)**2 + np.cos(lat1) * np.cos(lat2) * np.sin(dlon/2.0)**2\n",
    "    c=2*np.arcsin(np.sqrt(a))\n",
    "    km=6367*c\n",
    "    return km"
   ]
  },
  {
   "cell_type": "code",
   "execution_count": 86,
   "metadata": {},
   "outputs": [],
   "source": [
    "df_train_1['haversine_dist']= haversine_np(df_train_1.pickup_longitude, df_train_1.pickup_latitude, df_train_1.dropoff_longitude, df_train_1.dropoff_latitude).astype('float')"
   ]
  },
  {
   "cell_type": "code",
   "execution_count": 87,
   "metadata": {},
   "outputs": [
    {
     "data": {
      "text/html": [
       "<div>\n",
       "<style scoped>\n",
       "    .dataframe tbody tr th:only-of-type {\n",
       "        vertical-align: middle;\n",
       "    }\n",
       "\n",
       "    .dataframe tbody tr th {\n",
       "        vertical-align: top;\n",
       "    }\n",
       "\n",
       "    .dataframe thead th {\n",
       "        text-align: right;\n",
       "    }\n",
       "</style>\n",
       "<table border=\"1\" class=\"dataframe\">\n",
       "  <thead>\n",
       "    <tr style=\"text-align: right;\">\n",
       "      <th></th>\n",
       "      <th>fare_amount</th>\n",
       "      <th>pickup_longitude</th>\n",
       "      <th>pickup_latitude</th>\n",
       "      <th>dropoff_longitude</th>\n",
       "      <th>dropoff_latitude</th>\n",
       "      <th>passenger_count</th>\n",
       "      <th>pickup_day</th>\n",
       "      <th>pickup_hour</th>\n",
       "      <th>pickup_day_of_week</th>\n",
       "      <th>pickup_month</th>\n",
       "      <th>pickup_year</th>\n",
       "      <th>haversine_dist</th>\n",
       "    </tr>\n",
       "  </thead>\n",
       "  <tbody>\n",
       "    <tr>\n",
       "      <th>4</th>\n",
       "      <td>0.01</td>\n",
       "      <td>-73.939041</td>\n",
       "      <td>40.713963</td>\n",
       "      <td>-73.941673</td>\n",
       "      <td>40.713997</td>\n",
       "      <td>1</td>\n",
       "      <td>1.0</td>\n",
       "      <td>15.0</td>\n",
       "      <td>4.0</td>\n",
       "      <td>5.0</td>\n",
       "      <td>2015.0</td>\n",
       "      <td>0.221738</td>\n",
       "    </tr>\n",
       "    <tr>\n",
       "      <th>5</th>\n",
       "      <td>1.14</td>\n",
       "      <td>-73.862829</td>\n",
       "      <td>40.769014</td>\n",
       "      <td>-73.982075</td>\n",
       "      <td>40.723854</td>\n",
       "      <td>1</td>\n",
       "      <td>31.0</td>\n",
       "      <td>15.0</td>\n",
       "      <td>5.0</td>\n",
       "      <td>5.0</td>\n",
       "      <td>2014.0</td>\n",
       "      <td>11.223636</td>\n",
       "    </tr>\n",
       "    <tr>\n",
       "      <th>6</th>\n",
       "      <td>2.50</td>\n",
       "      <td>-73.989142</td>\n",
       "      <td>40.720105</td>\n",
       "      <td>-73.988777</td>\n",
       "      <td>40.720662</td>\n",
       "      <td>1</td>\n",
       "      <td>29.0</td>\n",
       "      <td>3.0</td>\n",
       "      <td>3.0</td>\n",
       "      <td>3.0</td>\n",
       "      <td>2012.0</td>\n",
       "      <td>0.069110</td>\n",
       "    </tr>\n",
       "    <tr>\n",
       "      <th>11</th>\n",
       "      <td>2.50</td>\n",
       "      <td>-73.959008</td>\n",
       "      <td>40.712517</td>\n",
       "      <td>-73.959132</td>\n",
       "      <td>40.712184</td>\n",
       "      <td>1</td>\n",
       "      <td>28.0</td>\n",
       "      <td>23.0</td>\n",
       "      <td>1.0</td>\n",
       "      <td>8.0</td>\n",
       "      <td>2012.0</td>\n",
       "      <td>0.038450</td>\n",
       "    </tr>\n",
       "    <tr>\n",
       "      <th>14</th>\n",
       "      <td>2.50</td>\n",
       "      <td>-73.975013</td>\n",
       "      <td>40.782961</td>\n",
       "      <td>-73.975076</td>\n",
       "      <td>40.782875</td>\n",
       "      <td>1</td>\n",
       "      <td>11.0</td>\n",
       "      <td>8.0</td>\n",
       "      <td>3.0</td>\n",
       "      <td>4.0</td>\n",
       "      <td>2013.0</td>\n",
       "      <td>0.010929</td>\n",
       "    </tr>\n",
       "  </tbody>\n",
       "</table>\n",
       "</div>"
      ],
      "text/plain": [
       "    fare_amount  pickup_longitude  pickup_latitude  dropoff_longitude  \\\n",
       "4          0.01        -73.939041        40.713963         -73.941673   \n",
       "5          1.14        -73.862829        40.769014         -73.982075   \n",
       "6          2.50        -73.989142        40.720105         -73.988777   \n",
       "11         2.50        -73.959008        40.712517         -73.959132   \n",
       "14         2.50        -73.975013        40.782961         -73.975076   \n",
       "\n",
       "    dropoff_latitude  passenger_count  pickup_day  pickup_hour  \\\n",
       "4          40.713997                1         1.0         15.0   \n",
       "5          40.723854                1        31.0         15.0   \n",
       "6          40.720662                1        29.0          3.0   \n",
       "11         40.712184                1        28.0         23.0   \n",
       "14         40.782875                1        11.0          8.0   \n",
       "\n",
       "    pickup_day_of_week  pickup_month  pickup_year  haversine_dist  \n",
       "4                  4.0           5.0       2015.0        0.221738  \n",
       "5                  5.0           5.0       2014.0       11.223636  \n",
       "6                  3.0           3.0       2012.0        0.069110  \n",
       "11                 1.0           8.0       2012.0        0.038450  \n",
       "14                 3.0           4.0       2013.0        0.010929  "
      ]
     },
     "execution_count": 87,
     "metadata": {},
     "output_type": "execute_result"
    }
   ],
   "source": [
    "df_train_1.head()"
   ]
  },
  {
   "cell_type": "markdown",
   "metadata": {},
   "source": [
    "### Feature Selection"
   ]
  },
  {
   "cell_type": "code",
   "execution_count": 91,
   "metadata": {},
   "outputs": [
    {
     "data": {
      "text/plain": [
       "<matplotlib.axes._subplots.AxesSubplot at 0x1b464d8a978>"
      ]
     },
     "execution_count": 91,
     "metadata": {},
     "output_type": "execute_result"
    },
    {
     "data": {
      "image/png": "[encoded data removed]",
      "text/plain": [
       "<Figure size 864x864 with 2 Axes>"
      ]
     },
     "metadata": {
      "needs_background": "light"
     },
     "output_type": "display_data"
    }
   ],
   "source": [
    "## feature selection for numerical variable\n",
    "#let us see the correlation\n",
    "num_var = ['pickup_longitude','pickup_latitude','dropoff_longitude','dropoff_latitude',\n",
    "           'passenger_count','pickup_day','pickup_hour','pickup_day_of_week',\n",
    "           'pickup_month','pickup_year','haversine_dist','fare_amount']\n",
    "data_corr=df_train_1.loc[:,num_var]\n",
    "\n",
    "# Correlation matrix\n",
    "\n",
    "#generating correlation matrix\n",
    "corr=data_corr.corr()\n",
    "\n",
    "#Setting up the pane or matrix size\n",
    "f, ax = plt.subplots(figsize=(12,12)) \n",
    "\n",
    "## Plot heatmap using Seaborn library\n",
    "sns.heatmap(corr, mask=np.zeros_like(corr, dtype=np.bool), cmap=\"RdYlBu\",\n",
    "            square=True, ax=ax,annot=True,linewidths=1)"
   ]
  },
  {
   "cell_type": "markdown",
   "metadata": {},
   "source": [
    "### Sampling"
   ]
  },
  {
   "cell_type": "code",
   "execution_count": 93,
   "metadata": {},
   "outputs": [],
   "source": [
    "X = df_train_1[['pickup_longitude','pickup_latitude','passenger_count','pickup_day','pickup_hour','pickup_day_of_week','pickup_month','pickup_year','haversine_dist']].values\n",
    "Y = df_train_1['fare_amount'].values"
   ]
  },
  {
   "cell_type": "code",
   "execution_count": 94,
   "metadata": {},
   "outputs": [],
   "source": [
    "x_train,x_test,y_train,y_test = train_test_split(X,Y,test_size=0.2,random_state=42)"
   ]
  },
  {
   "cell_type": "markdown",
   "metadata": {},
   "source": [
    "### Modelling"
   ]
  },
  {
   "cell_type": "markdown",
   "metadata": {},
   "source": [
    "#### Linear Regression"
   ]
  },
  {
   "cell_type": "code",
   "execution_count": 130,
   "metadata": {},
   "outputs": [
    {
     "data": {
      "text/plain": [
       "LinearRegression(copy_X=True, fit_intercept=True, n_jobs=None,\n",
       "         normalize=False)"
      ]
     },
     "execution_count": 130,
     "metadata": {},
     "output_type": "execute_result"
    }
   ],
   "source": [
    "from sklearn.linear_model import LinearRegression\n",
    "lm = LinearRegression()\n",
    "lm.fit(x_train,y_train)"
   ]
  },
  {
   "cell_type": "code",
   "execution_count": 131,
   "metadata": {},
   "outputs": [],
   "source": [
    "lm_predict  = lm.predict(x_test)"
   ]
  },
  {
   "cell_type": "code",
   "execution_count": 132,
   "metadata": {},
   "outputs": [
    {
     "name": "stdout",
     "output_type": "stream",
     "text": [
      "Linear Regression RMSE: 4.0688726023890345 \n"
     ]
    }
   ],
   "source": [
    "## Metrics Evaluation\n",
    "from math import sqrt\n",
    "from sklearn.metrics import mean_squared_error\n",
    "print(\"Linear Regression RMSE: {} \".format(sqrt(mean_squared_error(y_test,lm_predict))))"
   ]
  },
  {
   "cell_type": "markdown",
   "metadata": {},
   "source": [
    "#### Decision Tree Regression"
   ]
  },
  {
   "cell_type": "code",
   "execution_count": 98,
   "metadata": {},
   "outputs": [],
   "source": [
    "def DT(depth):\n",
    "    dt = DecisionTreeRegressor(max_depth = depth,random_state = 42)\n",
    "    dt.fit(x_train,y_train)\n",
    "    pred = dt.predict(x_test)\n",
    "    print(\"depth : {} --- Decision Tree RMSE : {}\".format(depth,sqrt(mean_squared_error(y_test,pred))))"
   ]
  },
  {
   "cell_type": "code",
   "execution_count": 99,
   "metadata": {},
   "outputs": [
    {
     "name": "stdout",
     "output_type": "stream",
     "text": [
      "depth : 1 --- Decision Tree RMSE : 2.961078826410373\n",
      "depth : 2 --- Decision Tree RMSE : 2.5528579848407653\n",
      "depth : 3 --- Decision Tree RMSE : 2.4300423091994516\n",
      "depth : 4 --- Decision Tree RMSE : 2.3377105578755666\n",
      "depth : 5 --- Decision Tree RMSE : 2.301535673114662\n",
      "depth : 6 --- Decision Tree RMSE : 2.271276793236065\n",
      "depth : 7 --- Decision Tree RMSE : 2.2985792116908\n",
      "depth : 8 --- Decision Tree RMSE : 2.362628245153837\n",
      "depth : 9 --- Decision Tree RMSE : 2.4270973106949896\n",
      "depth : 10 --- Decision Tree RMSE : 2.582470403621639\n",
      "depth : 11 --- Decision Tree RMSE : 2.6322183389323164\n",
      "depth : 12 --- Decision Tree RMSE : 2.754761716462991\n",
      "depth : 13 --- Decision Tree RMSE : 2.8001731194563346\n",
      "depth : 14 --- Decision Tree RMSE : 2.960537556585026\n",
      "depth : 15 --- Decision Tree RMSE : 2.951389190761407\n",
      "depth : None --- Decision Tree RMSE : 3.100101713722916\n"
     ]
    }
   ],
   "source": [
    "for i in [1,2,3,4,5,6,7,8,9,10,11,12,13,14,15,None]:\n",
    "    DT(i)"
   ]
  },
  {
   "cell_type": "code",
   "execution_count": 100,
   "metadata": {},
   "outputs": [
    {
     "name": "stdout",
     "output_type": "stream",
     "text": [
      "Decision Tree RMSE: 2.271276793236065 \n"
     ]
    }
   ],
   "source": [
    "dt_model = DecisionTreeRegressor(max_depth=6, random_state=42)\n",
    "dt_model.fit(x_train,y_train)\n",
    "dt_pred = dt_model.predict(x_test)\n",
    "print(\"Decision Tree RMSE: {} \".format(sqrt(mean_squared_error(y_test,dt_pred))))"
   ]
  },
  {
   "cell_type": "markdown",
   "metadata": {},
   "source": [
    "#### Random Forest Regression"
   ]
  },
  {
   "cell_type": "code",
   "execution_count": 101,
   "metadata": {},
   "outputs": [],
   "source": [
    "def RFR(n_est,depth):\n",
    "    rf = RandomForestRegressor(n_estimators=n_est, max_depth=depth, n_jobs=-1,random_state=42)\n",
    "    rf.fit(x_train,y_train)\n",
    "    rf_pred = rf.predict(x_test)\n",
    "    print(\" depth - {} -- n_estimators - {} RMSE : {}\".format(n_est,depth,sqrt(mean_squared_error(y_test,rf_pred))))"
   ]
  },
  {
   "cell_type": "code",
   "execution_count": 102,
   "metadata": {},
   "outputs": [
    {
     "name": "stdout",
     "output_type": "stream",
     "text": [
      " depth - 100 -- n_estimators - 2 RMSE : 2.498215535705009\n",
      " depth - 100 -- n_estimators - 5 RMSE : 2.260911884277596\n",
      " depth - 100 -- n_estimators - 10 RMSE : 2.2209088598228703\n",
      " depth - 100 -- n_estimators - 20 RMSE : 2.234883228028899\n",
      " depth - 100 -- n_estimators - 30 RMSE : 2.238132274709686\n",
      " depth - 200 -- n_estimators - 2 RMSE : 2.499616918734803\n",
      " depth - 200 -- n_estimators - 5 RMSE : 2.259521624353274\n",
      " depth - 200 -- n_estimators - 10 RMSE : 2.2162335855349533\n",
      " depth - 200 -- n_estimators - 20 RMSE : 2.227456530830581\n",
      " depth - 200 -- n_estimators - 30 RMSE : 2.228224339763832\n",
      " depth - 500 -- n_estimators - 2 RMSE : 2.4985051231496134\n",
      " depth - 500 -- n_estimators - 5 RMSE : 2.2595790490126246\n",
      " depth - 500 -- n_estimators - 10 RMSE : 2.216918940211908\n",
      " depth - 500 -- n_estimators - 20 RMSE : 2.227542665296811\n",
      " depth - 500 -- n_estimators - 30 RMSE : 2.2275101752134647\n",
      " depth - 1000 -- n_estimators - 2 RMSE : 2.4973017405035542\n",
      " depth - 1000 -- n_estimators - 5 RMSE : 2.2592600039178836\n",
      " depth - 1000 -- n_estimators - 10 RMSE : 2.21537895829582\n",
      " depth - 1000 -- n_estimators - 20 RMSE : 2.2281414361512297\n",
      " depth - 1000 -- n_estimators - 30 RMSE : 2.2283552929622306\n",
      " depth - 2000 -- n_estimators - 2 RMSE : 2.496974657083343\n",
      " depth - 2000 -- n_estimators - 5 RMSE : 2.259369055936007\n",
      " depth - 2000 -- n_estimators - 10 RMSE : 2.2150410784896244\n",
      " depth - 2000 -- n_estimators - 20 RMSE : 2.2276973431835967\n",
      " depth - 2000 -- n_estimators - 30 RMSE : 2.2274856786205115\n"
     ]
    }
   ],
   "source": [
    "for n_est in [100, 200, 500, 1000, 2000]:\n",
    "    for depth in [2, 5, 10 , 20, 30]:\n",
    "        RFR(n_est, depth)"
   ]
  },
  {
   "cell_type": "code",
   "execution_count": 129,
   "metadata": {},
   "outputs": [
    {
     "name": "stdout",
     "output_type": "stream",
     "text": [
      "Random_Forest_Regression RMSE: 2.328798141719786\n"
     ]
    }
   ],
   "source": [
    "rf = RandomForestRegressor(n_estimators =10, max_depth =2000,n_jobs=-1)\n",
    "rf.fit(x_train,y_train)\n",
    "rf_pred = rf.predict(x_test)\n",
    "print(\"Random_Forest_Regression RMSE: {}\".format(sqrt(mean_squared_error(y_test,rf_pred))))"
   ]
  },
  {
   "cell_type": "code",
   "execution_count": 140,
   "metadata": {},
   "outputs": [
    {
     "data": {
      "text/html": [
       "<div>\n",
       "<style scoped>\n",
       "    .dataframe tbody tr th:only-of-type {\n",
       "        vertical-align: middle;\n",
       "    }\n",
       "\n",
       "    .dataframe tbody tr th {\n",
       "        vertical-align: top;\n",
       "    }\n",
       "\n",
       "    .dataframe thead th {\n",
       "        text-align: right;\n",
       "    }\n",
       "</style>\n",
       "<table border=\"1\" class=\"dataframe\">\n",
       "  <thead>\n",
       "    <tr style=\"text-align: right;\">\n",
       "      <th></th>\n",
       "      <th>Model</th>\n",
       "      <th>RMSE</th>\n",
       "    </tr>\n",
       "  </thead>\n",
       "  <tbody>\n",
       "    <tr>\n",
       "      <th>0</th>\n",
       "      <td>Linear Regression</td>\n",
       "      <td>3.889</td>\n",
       "    </tr>\n",
       "    <tr>\n",
       "      <th>1</th>\n",
       "      <td>Decision Tree Regression</td>\n",
       "      <td>2.279</td>\n",
       "    </tr>\n",
       "    <tr>\n",
       "      <th>2</th>\n",
       "      <td>Random Forest Regression</td>\n",
       "      <td>2.191</td>\n",
       "    </tr>\n",
       "  </tbody>\n",
       "</table>\n",
       "</div>"
      ],
      "text/plain": [
       "                      Model   RMSE\n",
       "0         Linear Regression  3.889\n",
       "1  Decision Tree Regression  2.279\n",
       "2  Random Forest Regression  2.191"
      ]
     },
     "execution_count": 140,
     "metadata": {},
     "output_type": "execute_result"
    }
   ],
   "source": [
    "#### MOdel comparsion before feature selection\n",
    "df_model = pd.DataFrame({\"Model\":['Linear Regression','Decision Tree Regression','Random Forest Regression'],\"RMSE\":[3.889,2.279,2.191]})\n",
    "df_model"
   ]
  },
  {
   "cell_type": "code",
   "execution_count": 141,
   "metadata": {},
   "outputs": [
    {
     "data": {
      "text/plain": [
       "Text(0.5, 1.0, 'Comparing the different types of Models used before feature selection')"
      ]
     },
     "execution_count": 141,
     "metadata": {},
     "output_type": "execute_result"
    },
    {
     "data": {
      "image/png": "[encoded data removed]",
      "text/plain": [
       "<Figure size 576x360 with 1 Axes>"
      ]
     },
     "metadata": {
      "needs_background": "light"
     },
     "output_type": "display_data"
    }
   ],
   "source": [
    "plt.figure(figsize=(8,5))\n",
    "sns.barplot(df_model['RMSE'], df_model['Model'])\n",
    "plt.xlabel(\"Root Mean Square Error\")\n",
    "plt.ylabel('Different Models')\n",
    "plt.title('Comparing the different types of Models used before feature selection')"
   ]
  },
  {
   "cell_type": "markdown",
   "metadata": {},
   "source": [
    "From above observation,we select Decision Tree Regressor."
   ]
  },
  {
   "cell_type": "code",
   "execution_count": 138,
   "metadata": {},
   "outputs": [
    {
     "data": {
      "text/html": [
       "<div>\n",
       "<style scoped>\n",
       "    .dataframe tbody tr th:only-of-type {\n",
       "        vertical-align: middle;\n",
       "    }\n",
       "\n",
       "    .dataframe tbody tr th {\n",
       "        vertical-align: top;\n",
       "    }\n",
       "\n",
       "    .dataframe thead th {\n",
       "        text-align: right;\n",
       "    }\n",
       "</style>\n",
       "<table border=\"1\" class=\"dataframe\">\n",
       "  <thead>\n",
       "    <tr style=\"text-align: right;\">\n",
       "      <th></th>\n",
       "      <th>Model</th>\n",
       "      <th>RMSE</th>\n",
       "    </tr>\n",
       "  </thead>\n",
       "  <tbody>\n",
       "    <tr>\n",
       "      <th>0</th>\n",
       "      <td>Linear Regression</td>\n",
       "      <td>4.0688</td>\n",
       "    </tr>\n",
       "    <tr>\n",
       "      <th>1</th>\n",
       "      <td>Decision Tree Regression</td>\n",
       "      <td>2.2710</td>\n",
       "    </tr>\n",
       "    <tr>\n",
       "      <th>2</th>\n",
       "      <td>Random Forest Regression</td>\n",
       "      <td>2.2150</td>\n",
       "    </tr>\n",
       "  </tbody>\n",
       "</table>\n",
       "</div>"
      ],
      "text/plain": [
       "                      Model    RMSE\n",
       "0         Linear Regression  4.0688\n",
       "1  Decision Tree Regression  2.2710\n",
       "2  Random Forest Regression  2.2150"
      ]
     },
     "execution_count": 138,
     "metadata": {},
     "output_type": "execute_result"
    }
   ],
   "source": [
    "#### Model comparsion after feature selection\n",
    "\n",
    "df_model_1 = pd.DataFrame({\"Model\":['Linear Regression','Decision Tree Regression','Random Forest Regression'],\"RMSE\":[4.0688,2.271,2.2150]})\n",
    "df_model_1"
   ]
  },
  {
   "cell_type": "code",
   "execution_count": 139,
   "metadata": {},
   "outputs": [
    {
     "data": {
      "text/plain": [
       "Text(0.5, 1.0, 'Comparing the different types of Models used after feature selection')"
      ]
     },
     "execution_count": 139,
     "metadata": {},
     "output_type": "execute_result"
    },
    {
     "data": {
      "image/png": "[encoded data removed]",
      "text/plain": [
       "<Figure size 576x360 with 1 Axes>"
      ]
     },
     "metadata": {
      "needs_background": "light"
     },
     "output_type": "display_data"
    }
   ],
   "source": [
    "plt.figure(figsize=(8,5))\n",
    "sns.barplot(df_model_1['RMSE'], df_model_1['Model'])\n",
    "plt.xlabel(\"Root Mean Square Error\")\n",
    "plt.ylabel('Different Models')\n",
    "plt.title('Comparing the different types of Models used after feature selection')"
   ]
  },
  {
   "cell_type": "markdown",
   "metadata": {},
   "source": [
    "## Now with TEST Dataset"
   ]
  },
  {
   "cell_type": "code",
   "execution_count": 182,
   "metadata": {},
   "outputs": [
    {
     "name": "stdout",
     "output_type": "stream",
     "text": [
      "The shape of test data : (9914, 6)\n"
     ]
    }
   ],
   "source": [
    "df_test = pd.read_csv(\"test.csv\")\n",
    "print(\"The shape of test data : {}\".format(df_test.shape))"
   ]
  },
  {
   "cell_type": "code",
   "execution_count": 183,
   "metadata": {},
   "outputs": [
    {
     "data": {
      "text/plain": [
       "1    6914\n",
       "2    1474\n",
       "5     696\n",
       "3     447\n",
       "4     206\n",
       "6     177\n",
       "Name: passenger_count, dtype: int64"
      ]
     },
     "execution_count": 183,
     "metadata": {},
     "output_type": "execute_result"
    }
   ],
   "source": [
    "df_test['passenger_count'].value_counts()"
   ]
  },
  {
   "cell_type": "code",
   "execution_count": 184,
   "metadata": {},
   "outputs": [],
   "source": [
    "### Convert pickup_datetime from object to datetime object\n",
    "df_test['pickup_datetime'] = pd.to_datetime(df_test['pickup_datetime'],format=\"%Y-%m-%d %H:%M:%S UTC\",errors=\"coerce\")"
   ]
  },
  {
   "cell_type": "code",
   "execution_count": 185,
   "metadata": {},
   "outputs": [],
   "source": [
    "df_test['pickup_day'] = df_test['pickup_datetime'].dt.day\n",
    "df_test['pickup_hour'] = df_test['pickup_datetime'].dt.hour\n",
    "df_test['pickup_day_of_week'] = df_test['pickup_datetime'].dt.dayofweek ###The day of the week with Monday=0, Sunday=6\n",
    "df_test['pickup_month'] = df_test['pickup_datetime'].dt.month\n",
    "df_test['pickup_year'] =df_test['pickup_datetime'].dt.year"
   ]
  },
  {
   "cell_type": "code",
   "execution_count": 186,
   "metadata": {},
   "outputs": [
    {
     "data": {
      "text/html": [
       "<div>\n",
       "<style scoped>\n",
       "    .dataframe tbody tr th:only-of-type {\n",
       "        vertical-align: middle;\n",
       "    }\n",
       "\n",
       "    .dataframe tbody tr th {\n",
       "        vertical-align: top;\n",
       "    }\n",
       "\n",
       "    .dataframe thead th {\n",
       "        text-align: right;\n",
       "    }\n",
       "</style>\n",
       "<table border=\"1\" class=\"dataframe\">\n",
       "  <thead>\n",
       "    <tr style=\"text-align: right;\">\n",
       "      <th></th>\n",
       "      <th>pickup_datetime</th>\n",
       "      <th>pickup_longitude</th>\n",
       "      <th>pickup_latitude</th>\n",
       "      <th>dropoff_longitude</th>\n",
       "      <th>dropoff_latitude</th>\n",
       "      <th>passenger_count</th>\n",
       "      <th>pickup_day</th>\n",
       "      <th>pickup_hour</th>\n",
       "      <th>pickup_day_of_week</th>\n",
       "      <th>pickup_month</th>\n",
       "      <th>pickup_year</th>\n",
       "      <th>haversine_dist(km)</th>\n",
       "    </tr>\n",
       "  </thead>\n",
       "  <tbody>\n",
       "    <tr>\n",
       "      <th>0</th>\n",
       "      <td>2015-01-27 13:08:24</td>\n",
       "      <td>-73.973320</td>\n",
       "      <td>40.763805</td>\n",
       "      <td>-73.981430</td>\n",
       "      <td>40.743835</td>\n",
       "      <td>1</td>\n",
       "      <td>27</td>\n",
       "      <td>13</td>\n",
       "      <td>1</td>\n",
       "      <td>1</td>\n",
       "      <td>2015</td>\n",
       "      <td>2.321801</td>\n",
       "    </tr>\n",
       "    <tr>\n",
       "      <th>1</th>\n",
       "      <td>2015-01-27 13:08:24</td>\n",
       "      <td>-73.986862</td>\n",
       "      <td>40.719383</td>\n",
       "      <td>-73.998886</td>\n",
       "      <td>40.739201</td>\n",
       "      <td>1</td>\n",
       "      <td>27</td>\n",
       "      <td>13</td>\n",
       "      <td>1</td>\n",
       "      <td>1</td>\n",
       "      <td>2015</td>\n",
       "      <td>2.423830</td>\n",
       "    </tr>\n",
       "    <tr>\n",
       "      <th>2</th>\n",
       "      <td>2011-10-08 11:53:44</td>\n",
       "      <td>-73.982524</td>\n",
       "      <td>40.751260</td>\n",
       "      <td>-73.979654</td>\n",
       "      <td>40.746139</td>\n",
       "      <td>1</td>\n",
       "      <td>8</td>\n",
       "      <td>11</td>\n",
       "      <td>5</td>\n",
       "      <td>10</td>\n",
       "      <td>2011</td>\n",
       "      <td>0.618239</td>\n",
       "    </tr>\n",
       "    <tr>\n",
       "      <th>3</th>\n",
       "      <td>2012-12-01 21:12:12</td>\n",
       "      <td>-73.981160</td>\n",
       "      <td>40.767807</td>\n",
       "      <td>-73.990448</td>\n",
       "      <td>40.751635</td>\n",
       "      <td>1</td>\n",
       "      <td>1</td>\n",
       "      <td>21</td>\n",
       "      <td>5</td>\n",
       "      <td>12</td>\n",
       "      <td>2012</td>\n",
       "      <td>1.959801</td>\n",
       "    </tr>\n",
       "    <tr>\n",
       "      <th>4</th>\n",
       "      <td>2012-12-01 21:12:12</td>\n",
       "      <td>-73.966046</td>\n",
       "      <td>40.789775</td>\n",
       "      <td>-73.988565</td>\n",
       "      <td>40.744427</td>\n",
       "      <td>1</td>\n",
       "      <td>1</td>\n",
       "      <td>21</td>\n",
       "      <td>5</td>\n",
       "      <td>12</td>\n",
       "      <td>2012</td>\n",
       "      <td>5.383919</td>\n",
       "    </tr>\n",
       "  </tbody>\n",
       "</table>\n",
       "</div>"
      ],
      "text/plain": [
       "      pickup_datetime  pickup_longitude  pickup_latitude  dropoff_longitude  \\\n",
       "0 2015-01-27 13:08:24        -73.973320        40.763805         -73.981430   \n",
       "1 2015-01-27 13:08:24        -73.986862        40.719383         -73.998886   \n",
       "2 2011-10-08 11:53:44        -73.982524        40.751260         -73.979654   \n",
       "3 2012-12-01 21:12:12        -73.981160        40.767807         -73.990448   \n",
       "4 2012-12-01 21:12:12        -73.966046        40.789775         -73.988565   \n",
       "\n",
       "   dropoff_latitude  passenger_count  pickup_day  pickup_hour  \\\n",
       "0         40.743835                1          27           13   \n",
       "1         40.739201                1          27           13   \n",
       "2         40.746139                1           8           11   \n",
       "3         40.751635                1           1           21   \n",
       "4         40.744427                1           1           21   \n",
       "\n",
       "   pickup_day_of_week  pickup_month  pickup_year  haversine_dist(km)  \n",
       "0                   1             1         2015            2.321801  \n",
       "1                   1             1         2015            2.423830  \n",
       "2                   5            10         2011            0.618239  \n",
       "3                   5            12         2012            1.959801  \n",
       "4                   5            12         2012            5.383919  "
      ]
     },
     "execution_count": 186,
     "metadata": {},
     "output_type": "execute_result"
    }
   ],
   "source": [
    "df_test['haversine_dist(km)']= haversine_np(df_test.pickup_longitude, df_test.pickup_latitude, df_test.dropoff_longitude, df_test.dropoff_latitude).astype('float')\n",
    "df_test.head()"
   ]
  },
  {
   "cell_type": "code",
   "execution_count": 187,
   "metadata": {},
   "outputs": [],
   "source": [
    "df_test.drop('pickup_datetime',axis=1,inplace= True)"
   ]
  },
  {
   "cell_type": "code",
   "execution_count": 189,
   "metadata": {},
   "outputs": [],
   "source": [
    "### Now time to predict fare.\n",
    "## Predict using Decision Tree Regression.\n",
    "pred = dt_model.predict(df_test)"
   ]
  },
  {
   "cell_type": "code",
   "execution_count": 194,
   "metadata": {},
   "outputs": [],
   "source": [
    "prediction = pd.DataFrame({\"predicted_fare\":pred})\n"
   ]
  },
  {
   "cell_type": "code",
   "execution_count": 198,
   "metadata": {},
   "outputs": [
    {
     "data": {
      "text/html": [
       "<div>\n",
       "<style scoped>\n",
       "    .dataframe tbody tr th:only-of-type {\n",
       "        vertical-align: middle;\n",
       "    }\n",
       "\n",
       "    .dataframe tbody tr th {\n",
       "        vertical-align: top;\n",
       "    }\n",
       "\n",
       "    .dataframe thead th {\n",
       "        text-align: right;\n",
       "    }\n",
       "</style>\n",
       "<table border=\"1\" class=\"dataframe\">\n",
       "  <thead>\n",
       "    <tr style=\"text-align: right;\">\n",
       "      <th></th>\n",
       "      <th>predicted_fare</th>\n",
       "    </tr>\n",
       "  </thead>\n",
       "  <tbody>\n",
       "    <tr>\n",
       "      <th>0</th>\n",
       "      <td>9.243827</td>\n",
       "    </tr>\n",
       "    <tr>\n",
       "      <th>1</th>\n",
       "      <td>10.077562</td>\n",
       "    </tr>\n",
       "    <tr>\n",
       "      <th>2</th>\n",
       "      <td>4.379310</td>\n",
       "    </tr>\n",
       "    <tr>\n",
       "      <th>3</th>\n",
       "      <td>7.850595</td>\n",
       "    </tr>\n",
       "    <tr>\n",
       "      <th>4</th>\n",
       "      <td>14.055319</td>\n",
       "    </tr>\n",
       "    <tr>\n",
       "      <th>5</th>\n",
       "      <td>9.397037</td>\n",
       "    </tr>\n",
       "    <tr>\n",
       "      <th>6</th>\n",
       "      <td>5.190446</td>\n",
       "    </tr>\n",
       "    <tr>\n",
       "      <th>7</th>\n",
       "      <td>5.100000</td>\n",
       "    </tr>\n",
       "    <tr>\n",
       "      <th>8</th>\n",
       "      <td>10.866295</td>\n",
       "    </tr>\n",
       "    <tr>\n",
       "      <th>9</th>\n",
       "      <td>6.763158</td>\n",
       "    </tr>\n",
       "    <tr>\n",
       "      <th>10</th>\n",
       "      <td>9.243827</td>\n",
       "    </tr>\n",
       "    <tr>\n",
       "      <th>11</th>\n",
       "      <td>16.137500</td>\n",
       "    </tr>\n",
       "    <tr>\n",
       "      <th>12</th>\n",
       "      <td>4.379310</td>\n",
       "    </tr>\n",
       "    <tr>\n",
       "      <th>13</th>\n",
       "      <td>6.582003</td>\n",
       "    </tr>\n",
       "    <tr>\n",
       "      <th>14</th>\n",
       "      <td>8.474474</td>\n",
       "    </tr>\n",
       "    <tr>\n",
       "      <th>15</th>\n",
       "      <td>11.476692</td>\n",
       "    </tr>\n",
       "    <tr>\n",
       "      <th>16</th>\n",
       "      <td>5.012891</td>\n",
       "    </tr>\n",
       "    <tr>\n",
       "      <th>17</th>\n",
       "      <td>9.118994</td>\n",
       "    </tr>\n",
       "    <tr>\n",
       "      <th>18</th>\n",
       "      <td>5.190446</td>\n",
       "    </tr>\n",
       "    <tr>\n",
       "      <th>19</th>\n",
       "      <td>5.012891</td>\n",
       "    </tr>\n",
       "    <tr>\n",
       "      <th>20</th>\n",
       "      <td>7.792453</td>\n",
       "    </tr>\n",
       "    <tr>\n",
       "      <th>21</th>\n",
       "      <td>9.243827</td>\n",
       "    </tr>\n",
       "    <tr>\n",
       "      <th>22</th>\n",
       "      <td>6.763158</td>\n",
       "    </tr>\n",
       "    <tr>\n",
       "      <th>23</th>\n",
       "      <td>9.243827</td>\n",
       "    </tr>\n",
       "    <tr>\n",
       "      <th>24</th>\n",
       "      <td>17.726994</td>\n",
       "    </tr>\n",
       "    <tr>\n",
       "      <th>25</th>\n",
       "      <td>6.763158</td>\n",
       "    </tr>\n",
       "    <tr>\n",
       "      <th>26</th>\n",
       "      <td>5.100000</td>\n",
       "    </tr>\n",
       "    <tr>\n",
       "      <th>27</th>\n",
       "      <td>19.413636</td>\n",
       "    </tr>\n",
       "    <tr>\n",
       "      <th>28</th>\n",
       "      <td>5.750000</td>\n",
       "    </tr>\n",
       "    <tr>\n",
       "      <th>29</th>\n",
       "      <td>16.137500</td>\n",
       "    </tr>\n",
       "    <tr>\n",
       "      <th>...</th>\n",
       "      <td>...</td>\n",
       "    </tr>\n",
       "    <tr>\n",
       "      <th>9884</th>\n",
       "      <td>11.433333</td>\n",
       "    </tr>\n",
       "    <tr>\n",
       "      <th>9885</th>\n",
       "      <td>16.137500</td>\n",
       "    </tr>\n",
       "    <tr>\n",
       "      <th>9886</th>\n",
       "      <td>19.413636</td>\n",
       "    </tr>\n",
       "    <tr>\n",
       "      <th>9887</th>\n",
       "      <td>6.608108</td>\n",
       "    </tr>\n",
       "    <tr>\n",
       "      <th>9888</th>\n",
       "      <td>8.088235</td>\n",
       "    </tr>\n",
       "    <tr>\n",
       "      <th>9889</th>\n",
       "      <td>10.077562</td>\n",
       "    </tr>\n",
       "    <tr>\n",
       "      <th>9890</th>\n",
       "      <td>12.766571</td>\n",
       "    </tr>\n",
       "    <tr>\n",
       "      <th>9891</th>\n",
       "      <td>16.000000</td>\n",
       "    </tr>\n",
       "    <tr>\n",
       "      <th>9892</th>\n",
       "      <td>12.766571</td>\n",
       "    </tr>\n",
       "    <tr>\n",
       "      <th>9893</th>\n",
       "      <td>13.230769</td>\n",
       "    </tr>\n",
       "    <tr>\n",
       "      <th>9894</th>\n",
       "      <td>10.794118</td>\n",
       "    </tr>\n",
       "    <tr>\n",
       "      <th>9895</th>\n",
       "      <td>19.413636</td>\n",
       "    </tr>\n",
       "    <tr>\n",
       "      <th>9896</th>\n",
       "      <td>10.077562</td>\n",
       "    </tr>\n",
       "    <tr>\n",
       "      <th>9897</th>\n",
       "      <td>16.137500</td>\n",
       "    </tr>\n",
       "    <tr>\n",
       "      <th>9898</th>\n",
       "      <td>5.012891</td>\n",
       "    </tr>\n",
       "    <tr>\n",
       "      <th>9899</th>\n",
       "      <td>17.726994</td>\n",
       "    </tr>\n",
       "    <tr>\n",
       "      <th>9900</th>\n",
       "      <td>7.566667</td>\n",
       "    </tr>\n",
       "    <tr>\n",
       "      <th>9901</th>\n",
       "      <td>6.608108</td>\n",
       "    </tr>\n",
       "    <tr>\n",
       "      <th>9902</th>\n",
       "      <td>12.939048</td>\n",
       "    </tr>\n",
       "    <tr>\n",
       "      <th>9903</th>\n",
       "      <td>9.243827</td>\n",
       "    </tr>\n",
       "    <tr>\n",
       "      <th>9904</th>\n",
       "      <td>11.433333</td>\n",
       "    </tr>\n",
       "    <tr>\n",
       "      <th>9905</th>\n",
       "      <td>19.413636</td>\n",
       "    </tr>\n",
       "    <tr>\n",
       "      <th>9906</th>\n",
       "      <td>5.012891</td>\n",
       "    </tr>\n",
       "    <tr>\n",
       "      <th>9907</th>\n",
       "      <td>14.162857</td>\n",
       "    </tr>\n",
       "    <tr>\n",
       "      <th>9908</th>\n",
       "      <td>7.792453</td>\n",
       "    </tr>\n",
       "    <tr>\n",
       "      <th>9909</th>\n",
       "      <td>7.566667</td>\n",
       "    </tr>\n",
       "    <tr>\n",
       "      <th>9910</th>\n",
       "      <td>13.255814</td>\n",
       "    </tr>\n",
       "    <tr>\n",
       "      <th>9911</th>\n",
       "      <td>9.300000</td>\n",
       "    </tr>\n",
       "    <tr>\n",
       "      <th>9912</th>\n",
       "      <td>19.413636</td>\n",
       "    </tr>\n",
       "    <tr>\n",
       "      <th>9913</th>\n",
       "      <td>6.763158</td>\n",
       "    </tr>\n",
       "  </tbody>\n",
       "</table>\n",
       "<p>9914 rows × 1 columns</p>\n",
       "</div>"
      ],
      "text/plain": [
       "      predicted_fare\n",
       "0           9.243827\n",
       "1          10.077562\n",
       "2           4.379310\n",
       "3           7.850595\n",
       "4          14.055319\n",
       "5           9.397037\n",
       "6           5.190446\n",
       "7           5.100000\n",
       "8          10.866295\n",
       "9           6.763158\n",
       "10          9.243827\n",
       "11         16.137500\n",
       "12          4.379310\n",
       "13          6.582003\n",
       "14          8.474474\n",
       "15         11.476692\n",
       "16          5.012891\n",
       "17          9.118994\n",
       "18          5.190446\n",
       "19          5.012891\n",
       "20          7.792453\n",
       "21          9.243827\n",
       "22          6.763158\n",
       "23          9.243827\n",
       "24         17.726994\n",
       "25          6.763158\n",
       "26          5.100000\n",
       "27         19.413636\n",
       "28          5.750000\n",
       "29         16.137500\n",
       "...              ...\n",
       "9884       11.433333\n",
       "9885       16.137500\n",
       "9886       19.413636\n",
       "9887        6.608108\n",
       "9888        8.088235\n",
       "9889       10.077562\n",
       "9890       12.766571\n",
       "9891       16.000000\n",
       "9892       12.766571\n",
       "9893       13.230769\n",
       "9894       10.794118\n",
       "9895       19.413636\n",
       "9896       10.077562\n",
       "9897       16.137500\n",
       "9898        5.012891\n",
       "9899       17.726994\n",
       "9900        7.566667\n",
       "9901        6.608108\n",
       "9902       12.939048\n",
       "9903        9.243827\n",
       "9904       11.433333\n",
       "9905       19.413636\n",
       "9906        5.012891\n",
       "9907       14.162857\n",
       "9908        7.792453\n",
       "9909        7.566667\n",
       "9910       13.255814\n",
       "9911        9.300000\n",
       "9912       19.413636\n",
       "9913        6.763158\n",
       "\n",
       "[9914 rows x 1 columns]"
      ]
     },
     "execution_count": 198,
     "metadata": {},
     "output_type": "execute_result"
    }
   ],
   "source": [
    "prediction"
   ]
  },
  {
   "cell_type": "code",
   "execution_count": null,
   "metadata": {},
   "outputs": [],
   "source": []
  }
 ],
 "metadata": {
  "kernelspec": {
   "display_name": "Python 3",
   "language": "python",
   "name": "python3"
  },
  "language_info": {
   "codemirror_mode": {
    "name": "ipython",
    "version": 3
   },
   "file_extension": ".py",
   "mimetype": "text/x-python",
   "name": "python",
   "nbconvert_exporter": "python",
   "pygments_lexer": "ipython3",
   "version": "3.7.1"
  }
 },
 "nbformat": 4,
 "nbformat_minor": 2
}
